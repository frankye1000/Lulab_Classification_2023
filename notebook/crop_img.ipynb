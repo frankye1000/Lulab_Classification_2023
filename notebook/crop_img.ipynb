{
 "cells": [
  {
   "cell_type": "code",
   "execution_count": 8,
   "metadata": {},
   "outputs": [],
   "source": [
    "import os\n",
    "import re\n",
    "import cv2\n",
    "from glob import glob\n",
    "import matplotlib.pyplot as plt"
   ]
  },
  {
   "cell_type": "code",
   "execution_count": 18,
   "metadata": {},
   "outputs": [
    {
     "data": {
      "text/plain": [
       "3599"
      ]
     },
     "execution_count": 18,
     "metadata": {},
     "output_type": "execute_result"
    }
   ],
   "source": [
    "img_paths = sorted(glob(\"../dataset_test_everyframes/raw_test_z/*.png\"))\n",
    "len(img_paths)"
   ]
  },
  {
   "cell_type": "code",
   "execution_count": null,
   "metadata": {},
   "outputs": [],
   "source": []
  },
  {
   "cell_type": "code",
   "execution_count": 19,
   "metadata": {},
   "outputs": [
    {
     "name": "stdout",
     "output_type": "stream",
     "text": [
      "process: 3598"
     ]
    }
   ],
   "source": [
    "# # # # 舊位置(壺腹乳頭在右邊)\n",
    "tags = ['a','b','c','d','e','f','g','h','i','j','q','z']\n",
    "x1 = 160\n",
    "x2 = 920\n",
    "y1 = 1020\n",
    "y2 = 1780\n",
    "\n",
    "for i,path in enumerate(img_paths):\n",
    "    img_name = path.split(\"/\")[-1]\n",
    "    if(img_name[0] in tags):\n",
    "\n",
    "        img_array = cv2.imread(path)[x1:x2, y1:y2]\n",
    "        # plt.imshow(cv2.cvtColor(img_array, cv2.COLOR_BGR2RGB))\n",
    "        # plt.show()\n",
    "        cv2.imwrite('../dataset_test_everyframes/test_z/{}'.format(img_name), img_array)\n",
    "    \n",
    "    print(\"\\rprocess: {}\".format(i), end = '')"
   ]
  },
  {
   "cell_type": "code",
   "execution_count": 15,
   "metadata": {},
   "outputs": [
    {
     "name": "stdout",
     "output_type": "stream",
     "text": [
      "process: 2198"
     ]
    }
   ],
   "source": [
    "# # 新位置(壺腹乳頭在左邊)\n",
    "# tags = ['k','l','m','n','o','p','r','s','t','u']\n",
    "# x1 = 160\n",
    "# x2 = 920\n",
    "# y1 = 60\n",
    "# y2 = 820\n",
    "\n",
    "# for i,path in enumerate(img_paths):\n",
    "#     img_name = path.split(\"/\")[-1]\n",
    "#     if(img_name[0] in tags):\n",
    "\n",
    "#         img_array = cv2.imread(path)[x1:x2, y1:y2]\n",
    "#         # plt.imshow(cv2.cvtColor(img_array, cv2.COLOR_BGR2RGB))\n",
    "#         # plt.show()\n",
    "#         cv2.imwrite('../dataset_test_everyframes/test_q/{}'.format(img_name), img_array)\n",
    "    \n",
    "#     print(\"\\rprocess: {}\".format(i), end = '')"
   ]
  },
  {
   "cell_type": "code",
   "execution_count": null,
   "metadata": {},
   "outputs": [],
   "source": []
  },
  {
   "cell_type": "code",
   "execution_count": null,
   "metadata": {},
   "outputs": [],
   "source": []
  }
 ],
 "metadata": {
  "kernelspec": {
   "display_name": "Python 3.9.15 ('myenv')",
   "language": "python",
   "name": "python3"
  },
  "language_info": {
   "codemirror_mode": {
    "name": "ipython",
    "version": 3
   },
   "file_extension": ".py",
   "mimetype": "text/x-python",
   "name": "python",
   "nbconvert_exporter": "python",
   "pygments_lexer": "ipython3",
   "version": "3.9.15 (main, Nov  4 2022, 16:13:54) \n[GCC 11.2.0]"
  },
  "orig_nbformat": 4,
  "vscode": {
   "interpreter": {
    "hash": "e60de47cb3857121f9ee587fa65ec3e886692403f703077c3e6fd7aef069122f"
   }
  }
 },
 "nbformat": 4,
 "nbformat_minor": 2
}
