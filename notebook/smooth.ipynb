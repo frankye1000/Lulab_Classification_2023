{
 "cells": [
  {
   "cell_type": "code",
   "execution_count": 1,
   "metadata": {},
   "outputs": [],
   "source": [
    "import cv2 as cv\n",
    "from glob import glob\n",
    "import matplotlib.pyplot as plt"
   ]
  },
  {
   "cell_type": "code",
   "execution_count": 6,
   "metadata": {},
   "outputs": [],
   "source": [
    "datasets = ['train', 'validation', 'test']\n",
    "classs   = ['0', '1']\n",
    "\n",
    "for dataset in datasets:\n",
    "    for cl in classs:\n",
    "        img_paths = glob('../dataset_186video_20230323/{}/{}/*.png'.format(dataset, cl))\n",
    "\n",
    "        for img_path in img_paths:\n",
    "            img_array = cv.imread(img_path)\n",
    "            img_name  = img_path.split('/')[-1]\n",
    "            # 兩次雙邊濾波\n",
    "            blurred_img  = cv.bilateralFilter(img_array, 15, 50,  50)\n",
    "            blurred_img2 = cv.bilateralFilter(blurred_img, 15, 50, 50)\n",
    "            \n",
    "            cv.imwrite('../dataset_smooth_186video_20230323/{}/{}/{}'.format(dataset,cl,img_name), blurred_img2)\n",
    "\n"
   ]
  },
  {
   "cell_type": "code",
   "execution_count": null,
   "metadata": {},
   "outputs": [],
   "source": []
  },
  {
   "cell_type": "code",
   "execution_count": null,
   "metadata": {},
   "outputs": [],
   "source": []
  },
  {
   "cell_type": "code",
   "execution_count": null,
   "metadata": {},
   "outputs": [],
   "source": []
  }
 ],
 "metadata": {
  "kernelspec": {
   "display_name": "Python 3.9.7 ('frank_env')",
   "language": "python",
   "name": "python3"
  },
  "language_info": {
   "codemirror_mode": {
    "name": "ipython",
    "version": 3
   },
   "file_extension": ".py",
   "mimetype": "text/x-python",
   "name": "python",
   "nbconvert_exporter": "python",
   "pygments_lexer": "ipython3",
   "version": "3.9.13"
  },
  "orig_nbformat": 4,
  "vscode": {
   "interpreter": {
    "hash": "3d0b3230cba0d6cbfd99760ee6674b1181db07b2579171d1aa41779f5a406caf"
   }
  }
 },
 "nbformat": 4,
 "nbformat_minor": 2
}
