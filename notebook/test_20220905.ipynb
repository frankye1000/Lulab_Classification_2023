{
 "cells": [
  {
   "cell_type": "code",
   "execution_count": null,
   "metadata": {},
   "outputs": [],
   "source": [
    "import cv2 as cv\n",
    "import numpy as np\n",
    "from glob import glob\n",
    "from sklearn.utils import shuffle\n",
    "\n",
    "from config import efficientNet_config\n",
    "from models import efficientNetV2B0_model, efficientNetV2B3_model\n",
    "from utils import plt_heatmap, plt_roccurve\n",
    "\n",
    "from sklearn.metrics import confusion_matrix\n",
    "from sklearn.metrics import roc_curve, auc\n",
    "\n",
    "import os\n",
    "# 使用第二張 GPU 卡\n",
    "os.environ[\"CUDA_VISIBLE_DEVICES\"] = \"0\""
   ]
  },
  {
   "cell_type": "code",
   "execution_count": null,
   "metadata": {},
   "outputs": [],
   "source": []
  },
  {
   "cell_type": "markdown",
   "metadata": {},
   "source": [
    "# 載入模型"
   ]
  },
  {
   "cell_type": "code",
   "execution_count": null,
   "metadata": {},
   "outputs": [],
   "source": [
    "model = efficientNetV2B0_model()\n",
    "model.load_weights('../model/202303/20230330.weights')\n",
    "\n",
    "# 最後一個epoch的模型\n",
    "# from tensorflow import keras\n",
    "# model = keras.models.load_model('../model/202303/20230330_lastepoch.h5')"
   ]
  },
  {
   "cell_type": "code",
   "execution_count": null,
   "metadata": {},
   "outputs": [],
   "source": [
    "height  = efficientNet_config['height_B0']\n",
    "width   = efficientNet_config['width_B0']"
   ]
  },
  {
   "cell_type": "code",
   "execution_count": null,
   "metadata": {},
   "outputs": [],
   "source": [
    "test_dir      = '../dataset_186video_20230323/test'\n",
    "test_img_arrays = []\n",
    "test_img_labels = []\n",
    "\n",
    "## test\n",
    "img_paths = glob(test_dir + \"/0/*.png\")\n",
    "for img_path in img_paths:\n",
    "    # image\n",
    "    img_array = cv.imread(img_path)\n",
    "    img_array = cv.resize(img_array,(height,width))     # resize to (224,224)\n",
    "    test_img_arrays.append(img_array)\n",
    "    #label\n",
    "    test_img_labels.append([0])\n",
    "\n",
    "img_paths = glob(test_dir + \"/1/*.png\")\n",
    "for img_path in img_paths:\n",
    "    # image\n",
    "    img_array = cv.imread(img_path)\n",
    "    img_array = cv.resize(img_array,(height,width))      # resize to (224,224)\n",
    "    test_img_arrays.append(img_array)\n",
    "    #label\n",
    "    test_img_labels.append([1])"
   ]
  },
  {
   "cell_type": "code",
   "execution_count": null,
   "metadata": {},
   "outputs": [],
   "source": [
    "test_img_arrays = np.array(test_img_arrays)\n",
    "test_img_labels = np.array(test_img_labels)"
   ]
  },
  {
   "cell_type": "code",
   "execution_count": null,
   "metadata": {},
   "outputs": [],
   "source": [
    "print(\"測試集維度= \", test_img_arrays.shape)"
   ]
  },
  {
   "cell_type": "markdown",
   "metadata": {},
   "source": [
    "# 打亂"
   ]
  },
  {
   "cell_type": "code",
   "execution_count": null,
   "metadata": {},
   "outputs": [],
   "source": [
    "test_img_arrays, test_img_labels = shuffle(test_img_arrays,test_img_labels)"
   ]
  },
  {
   "cell_type": "code",
   "execution_count": null,
   "metadata": {},
   "outputs": [],
   "source": [
    "test_img_arrays.shape"
   ]
  },
  {
   "cell_type": "markdown",
   "metadata": {},
   "source": [
    "# 預測"
   ]
  },
  {
   "cell_type": "code",
   "execution_count": null,
   "metadata": {},
   "outputs": [],
   "source": [
    "pred_result = model.predict(test_img_arrays)"
   ]
  },
  {
   "cell_type": "markdown",
   "metadata": {},
   "source": [
    "# 結果"
   ]
  },
  {
   "cell_type": "code",
   "execution_count": null,
   "metadata": {},
   "outputs": [],
   "source": [
    "fpr, tpr, thresholds = roc_curve(test_img_labels, pred_result, pos_label=1) \n",
    "roc_auc = auc(fpr, tpr)\n",
    "plt_roccurve(fpr,tpr,roc_auc)"
   ]
  },
  {
   "cell_type": "code",
   "execution_count": null,
   "metadata": {},
   "outputs": [],
   "source": [
    "pred_result = np.where(pred_result > 0.5, 1,0)\n",
    "tn, fp, fn, tp = confusion_matrix(test_img_labels, pred_result).ravel()\n",
    "sensitivity = round(tp / (tp+fn), 4)\n",
    "specificity = round(tn / (tn+fp), 4)\n",
    "balanced_acc= round((sensitivity+specificity)/2, 4)\n",
    "precision   = round(tp / (tp+fp), 4)\n",
    "f1score     = round(2/((1/precision)+(1/sensitivity)), 4)\n",
    "accuracy    = round((tp+tn)/(tn+fp+fn+tp), 4)\n",
    "\n",
    "print('Sensitivity= ',sensitivity)\n",
    "print('Specificity= ',specificity)\n",
    "print('Balanced_acc= ',balanced_acc)\n",
    "print('Precision= ', precision)\n",
    "print('f1score= ', f1score)\n",
    "print('Accuracy= ',accuracy)"
   ]
  },
  {
   "cell_type": "code",
   "execution_count": null,
   "metadata": {},
   "outputs": [],
   "source": [
    "plt_heatmap([[tp,fn],[fp,tn]])"
   ]
  },
  {
   "cell_type": "code",
   "execution_count": null,
   "metadata": {},
   "outputs": [],
   "source": []
  },
  {
   "cell_type": "code",
   "execution_count": null,
   "metadata": {},
   "outputs": [],
   "source": []
  }
 ],
 "metadata": {
  "kernelspec": {
   "display_name": "base",
   "language": "python",
   "name": "python3"
  },
  "language_info": {
   "codemirror_mode": {
    "name": "ipython",
    "version": 3
   },
   "file_extension": ".py",
   "mimetype": "text/x-python",
   "name": "python",
   "nbconvert_exporter": "python",
   "pygments_lexer": "ipython3",
   "version": "3.9.13"
  },
  "orig_nbformat": 4,
  "vscode": {
   "interpreter": {
    "hash": "1448b48b023bcc9c3d4a79e814720a10ca6d4244f75e0f7ce4af58f96ba2b7d3"
   }
  }
 },
 "nbformat": 4,
 "nbformat_minor": 2
}
