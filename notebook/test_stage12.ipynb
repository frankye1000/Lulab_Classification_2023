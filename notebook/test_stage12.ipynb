{
 "cells": [
  {
   "cell_type": "code",
   "execution_count": null,
   "metadata": {},
   "outputs": [],
   "source": [
    "import cv2 as cv\n",
    "import numpy as np\n",
    "import pandas as pd\n",
    "from glob import glob\n",
    "from sklearn.utils import shuffle\n",
    "\n",
    "from config import efficientNet_config\n",
    "from models import efficientNetV2B0_model, efficientNetV2B3_model\n",
    "from utils import plt_heatmap, plt_roccurve\n",
    "\n",
    "from sklearn.metrics import confusion_matrix\n",
    "from sklearn.metrics import roc_curve, auc\n",
    "\n",
    "import os\n",
    "# 使用第二張 GPU 卡\n",
    "os.environ[\"CUDA_VISIBLE_DEVICES\"] = \"0\""
   ]
  },
  {
   "cell_type": "code",
   "execution_count": null,
   "metadata": {},
   "outputs": [],
   "source": []
  },
  {
   "cell_type": "markdown",
   "metadata": {},
   "source": [
    "# 載入模型"
   ]
  },
  {
   "cell_type": "code",
   "execution_count": null,
   "metadata": {},
   "outputs": [],
   "source": [
    "model = efficientNetV2B0_model()\n",
    "model.load_weights('../model/202211/20221102.weights')"
   ]
  },
  {
   "cell_type": "code",
   "execution_count": null,
   "metadata": {},
   "outputs": [],
   "source": [
    "height  = efficientNet_config['height_B0']\n",
    "width   = efficientNet_config['width_B0']"
   ]
  },
  {
   "cell_type": "code",
   "execution_count": null,
   "metadata": {},
   "outputs": [],
   "source": [
    "# test_dir      = '../dataset_22video_20221031/test/'  ##　這邊改資料集\n",
    "# test_dir      = '../dataset_smooth_22video_20221031/train/'\n",
    "test_dir      = '../dataset_smooth_22video_20221031/validation/'\n",
    "test_img_arrays = []\n",
    "test_img_labels = []\n",
    "test_img_names  = []\n",
    "\n",
    "## test\n",
    "img_paths = glob(test_dir + \"/0/*.png\")\n",
    "for img_path in img_paths:\n",
    "    # image\n",
    "    img_array = cv.imread(img_path)\n",
    "    img_array = cv.resize(img_array,(height,width))     # resize to (224,224)\n",
    "    test_img_arrays.append(img_array)\n",
    "    # label\n",
    "    test_img_labels.append([0])\n",
    "    # name\n",
    "    test_img_names.append(img_path.split(\"/\")[-1])\n",
    "\n",
    "img_paths = glob(test_dir + \"/1/*.png\")\n",
    "for img_path in img_paths:\n",
    "    # image\n",
    "    img_array = cv.imread(img_path)\n",
    "    img_array = cv.resize(img_array,(height,width))      # resize to (224,224)\n",
    "    test_img_arrays.append(img_array)\n",
    "    # label\n",
    "    test_img_labels.append([1])\n",
    "    # name\n",
    "    test_img_names.append(img_path.split(\"/\")[-1])"
   ]
  },
  {
   "cell_type": "code",
   "execution_count": null,
   "metadata": {},
   "outputs": [],
   "source": [
    "test_img_arrays = np.array(test_img_arrays)\n",
    "test_img_labels = np.array(test_img_labels)"
   ]
  },
  {
   "cell_type": "code",
   "execution_count": null,
   "metadata": {},
   "outputs": [],
   "source": [
    "print(\"測試集維度= \", test_img_arrays.shape)"
   ]
  },
  {
   "cell_type": "code",
   "execution_count": null,
   "metadata": {},
   "outputs": [],
   "source": []
  },
  {
   "cell_type": "markdown",
   "metadata": {},
   "source": [
    "# 打亂"
   ]
  },
  {
   "cell_type": "code",
   "execution_count": null,
   "metadata": {},
   "outputs": [],
   "source": [
    "# test_img_arrays, test_img_labels = shuffle(test_img_arrays,test_img_labels)"
   ]
  },
  {
   "cell_type": "code",
   "execution_count": null,
   "metadata": {},
   "outputs": [],
   "source": [
    "# test_img_arrays.shape"
   ]
  },
  {
   "cell_type": "markdown",
   "metadata": {},
   "source": [
    "# 預測"
   ]
  },
  {
   "cell_type": "code",
   "execution_count": null,
   "metadata": {},
   "outputs": [],
   "source": [
    "pred_result = model.predict(test_img_arrays)"
   ]
  },
  {
   "cell_type": "markdown",
   "metadata": {},
   "source": [
    "# 結果"
   ]
  },
  {
   "cell_type": "code",
   "execution_count": null,
   "metadata": {},
   "outputs": [],
   "source": [
    "fpr, tpr, thresholds = roc_curve(test_img_labels, pred_result, pos_label=1) \n",
    "roc_auc = auc(fpr, tpr)\n",
    "plt_roccurve(fpr,tpr,roc_auc)"
   ]
  },
  {
   "cell_type": "code",
   "execution_count": null,
   "metadata": {},
   "outputs": [],
   "source": [
    "pred_result = np.where(pred_result > 0.5, 1,0)\n",
    "tn, fp, fn, tp = confusion_matrix(test_img_labels, pred_result).ravel()\n",
    "sensitivity = round(tp / (tp+fn), 4)\n",
    "specificity = round(tn / (tn+fp), 4)\n",
    "balanced_acc= round((sensitivity+specificity)/2, 4)\n",
    "precision   = round(tp / (tp+fp), 4)\n",
    "f1score     = round(2/((1/precision)+(1/sensitivity)), 4)\n",
    "accuracy    = round((tp+tn)/(tn+fp+fn+tp), 4)\n",
    "\n",
    "print('Sensitivity= ',sensitivity)\n",
    "print('Specificity= ',specificity)\n",
    "print('Balanced_acc= ',balanced_acc)\n",
    "print('Precision= ', precision)\n",
    "print('f1score= ', f1score)\n",
    "print('Accuracy= ',accuracy)"
   ]
  },
  {
   "cell_type": "code",
   "execution_count": null,
   "metadata": {},
   "outputs": [],
   "source": [
    "plt_heatmap([[tp,fn],[fp,tn]])"
   ]
  },
  {
   "cell_type": "markdown",
   "metadata": {},
   "source": [
    "# 把stage1結果存起來，給stage2用"
   ]
  },
  {
   "cell_type": "code",
   "execution_count": null,
   "metadata": {},
   "outputs": [],
   "source": [
    "test_dict = {\n",
    " \"test_name\" : test_img_names,\n",
    " \"test_true\" : test_img_labels.reshape(-1),\n",
    " \"stage1_test_pred\" : pred_result.reshape(-1)\n",
    "}\n"
   ]
  },
  {
   "cell_type": "code",
   "execution_count": null,
   "metadata": {},
   "outputs": [],
   "source": [
    "# pd.DataFrame(test_dict).to_pickle(\"../result/stage1_pred_result_test.pickle\")\n",
    "# pd.DataFrame(test_dict).to_pickle(\"../result/stage1_pred_result_test_nosmooth.pickle\")\n",
    "# pd.DataFrame(test_dict).to_pickle(\"../result/stage1_pred_result_train.pickle\")\n",
    "# pd.DataFrame(test_dict).to_pickle(\"../result/stage1_pred_result_validation.pickle\")"
   ]
  },
  {
   "cell_type": "code",
   "execution_count": null,
   "metadata": {},
   "outputs": [],
   "source": [
    "pd.DataFrame(test_dict)"
   ]
  },
  {
   "cell_type": "code",
   "execution_count": null,
   "metadata": {},
   "outputs": [],
   "source": []
  }
 ],
 "metadata": {
  "kernelspec": {
   "display_name": "Python 3.9.15 ('myenv')",
   "language": "python",
   "name": "python3"
  },
  "language_info": {
   "codemirror_mode": {
    "name": "ipython",
    "version": 3
   },
   "file_extension": ".py",
   "mimetype": "text/x-python",
   "name": "python",
   "nbconvert_exporter": "python",
   "pygments_lexer": "ipython3",
   "version": "3.9.15 (main, Nov  4 2022, 16:13:54) \n[GCC 11.2.0]"
  },
  "orig_nbformat": 4,
  "vscode": {
   "interpreter": {
    "hash": "e60de47cb3857121f9ee587fa65ec3e886692403f703077c3e6fd7aef069122f"
   }
  }
 },
 "nbformat": 4,
 "nbformat_minor": 2
}
