{
 "cells": [
  {
   "cell_type": "code",
   "execution_count": 9,
   "metadata": {},
   "outputs": [],
   "source": [
    "import os\n",
    "import time\n",
    "import cv2 as cv\n",
    "import numpy as np\n",
    "from tqdm import tqdm\n",
    "from matplotlib import pyplot as plt"
   ]
  },
  {
   "attachments": {},
   "cell_type": "markdown",
   "metadata": {},
   "source": [
    "# 依照時間區間切割影片  (這是舊方法)"
   ]
  },
  {
   "cell_type": "code",
   "execution_count": 5,
   "metadata": {},
   "outputs": [],
   "source": [
    "# path = \"../../../video/ERCP_video/video/h.mp4\"\n",
    "# cap = cv.VideoCapture(path)\n",
    "\n",
    "# total_frames = int(cap.get(cv.CAP_PROP_FRAME_COUNT))\n",
    "# fps          = cap.get(cv.CAP_PROP_FPS)\n",
    "# duration     = total_frames / fps\n",
    "# print(total_frames, fps, duration)\n",
    "\n",
    "\n",
    "# # start time\n",
    "# min  = 3\n",
    "# sec  = 20\n",
    "# msec = 0\n",
    "# starttime = min*60*1000 + sec*1000 + msec\n",
    "\n",
    "# # end time\n",
    "# min  = 3\n",
    "# sec  = 30\n",
    "# msec = 0\n",
    "# endtime = min*60*1000 + sec*1000 + msec\n",
    "\n",
    "# # interval(msec)\n",
    "# interval = int(endtime-starttime)\n",
    "# print('interval(frames)= ', interval)\n",
    "\n",
    "# while cap.isOpened():\n",
    "#     for i in tqdm(range(1, interval)):                                  # 間隔單位:秒\n",
    "#         cap.set(cv.CAP_PROP_POS_MSEC, starttime + i)        # 設定影片開始時間 & 截圖間隔時間 \n",
    "#         success, image = cap.read()\n",
    "#         cv.imwrite('../dataset_test_everyframes/raw_test_h/h_{0:06d}.png'.format(i), image)\n",
    "#     break\n",
    "# cap.release()"
   ]
  },
  {
   "cell_type": "markdown",
   "metadata": {},
   "source": [
    "# 依照frames切割影片"
   ]
  },
  {
   "cell_type": "code",
   "execution_count": 16,
   "metadata": {},
   "outputs": [
    {
     "name": "stdout",
     "output_type": "stream",
     "text": [
      "Delete old result folder: ../dataset_test_everyframes/raw_test_l/\n",
      "create folder: ../dataset_test_everyframes/raw_test_l/\n",
      "frame_count=  54000\n",
      "process: 9000/54000"
     ]
    }
   ],
   "source": [
    "video_path = \"../../../video/ERCP_video/video/l.mp4\"\n",
    "output_folder = '../dataset_test_everyframes/raw_test_l/'\n",
    "\n",
    "if os.path.isdir(output_folder):\n",
    "    print(\"Delete old result folder: {}\".format(output_folder))\n",
    "    os.system(\"rm -rf {}\".format(output_folder))\n",
    "os.system(\"mkdir {}\".format(output_folder))\n",
    "print(\"create folder: {}\".format(output_folder))\n",
    "\n",
    "vc = cv.VideoCapture(video_path)\n",
    "fps = vc.get(cv.CAP_PROP_FPS)\n",
    "frame_count = int(vc.get(cv.CAP_PROP_FRAME_COUNT))\n",
    "print(\"frame_count= \",frame_count)\n",
    "video = []\n",
    "\n",
    "for idx in range(frame_count):\n",
    "    if idx==7200:\n",
    "        start_time = time.time()\n",
    "    if idx > 7200 and idx < 9000:\n",
    "        vc.set(1, idx)\n",
    "        ret, frame = vc.read()\n",
    "        height, width, layers = frame.shape\n",
    "        size = (width, height)\n",
    "\n",
    "        if frame is not None:\n",
    "            cv.imwrite('../dataset_test_everyframes/raw_test_l/l_{0:06d}.png'.format(idx), frame)\n",
    "    elif idx == 9000:\n",
    "        end_time = time.time()\n",
    "        break\n",
    "    print(\"\\rprocess: {}/{}\".format(idx+1 , frame_count), end = '')\n",
    "vc.release()\n",
    "\n"
   ]
  },
  {
   "cell_type": "code",
   "execution_count": 17,
   "metadata": {},
   "outputs": [
    {
     "name": "stdout",
     "output_type": "stream",
     "text": [
      "115.0443823337555\n"
     ]
    }
   ],
   "source": [
    "print(end_time- start_time)"
   ]
  },
  {
   "cell_type": "code",
   "execution_count": null,
   "metadata": {},
   "outputs": [],
   "source": []
  }
 ],
 "metadata": {
  "kernelspec": {
   "display_name": "Python 3.9.15 ('myenv')",
   "language": "python",
   "name": "python3"
  },
  "language_info": {
   "codemirror_mode": {
    "name": "ipython",
    "version": 3
   },
   "file_extension": ".py",
   "mimetype": "text/x-python",
   "name": "python",
   "nbconvert_exporter": "python",
   "pygments_lexer": "ipython3",
   "version": "3.9.15 (main, Nov  4 2022, 16:13:54) \n[GCC 11.2.0]"
  },
  "orig_nbformat": 4,
  "vscode": {
   "interpreter": {
    "hash": "e60de47cb3857121f9ee587fa65ec3e886692403f703077c3e6fd7aef069122f"
   }
  }
 },
 "nbformat": 4,
 "nbformat_minor": 2
}
