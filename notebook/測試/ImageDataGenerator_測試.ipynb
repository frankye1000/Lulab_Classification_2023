{
 "cells": [
  {
   "cell_type": "code",
   "execution_count": 4,
   "metadata": {},
   "outputs": [
    {
     "name": "stdout",
     "output_type": "stream",
     "text": [
      "(1, 760, 760, 3)\n",
      "(1, 760, 760, 3)\n",
      "(1, 760, 760, 3)\n"
     ]
    }
   ],
   "source": [
    "from tensorflow.keras.preprocessing.image import ImageDataGenerator, array_to_img, img_to_array, load_img\n",
    "import numpy as np\n",
    "datagen = ImageDataGenerator(\n",
    "        rotation_range=40,\n",
    "        width_shift_range=0.2,\n",
    "        height_shift_range=0.2,\n",
    "        shear_range=0.2,\n",
    "        zoom_range=0.2,\n",
    "        horizontal_flip=True,\n",
    "        fill_mode='nearest')\n",
    "l=[]\n",
    "img  = load_img(r\"f_000053.png\")  # this is a PIL image\n",
    "img1 = load_img(r\"j_000086.png\")  # this is a PIL image\n",
    "img2 = load_img(r\"a_000001.png\")  # this is a PIL image\n",
    "img3 = load_img(r\"b_000053.png\")  # this is a PIL image\n",
    "y = img_to_array(img1)\n",
    "x = img_to_array(img) # this is a Numpy array with shape (3, 150, 150)\n",
    "z = img_to_array(img2)\n",
    "k = img_to_array(img3)\n",
    "l.append(x)\n",
    "l.append(y)\n",
    "l.append(z)\n",
    "l.append(k)\n",
    "l = np.array(l)\n",
    "#l = l.reshape((1,) + l.shape)  # this is a Numpy array with shape (1, 3, 150, 150)\n",
    " \n",
    "# the .flow() command below generates batches of randomly transformed images\n",
    "# and saves the results to the `preview/` directory\n",
    "i = 0\n",
    "for batch in datagen.flow(l,                     # 隨機選擇全部圖片生成\n",
    "                          batch_size=1,          # 我生成的圖片是batch_size=2:(1, 760, 760, 3)\n",
    "                          save_to_dir=r'./aug/', # 我生成的圖片要儲存到aug資料夾\n",
    "                          save_format='png'):    # 我生成的圖片的類型是png \n",
    "    print(batch.shape)  \n",
    "    i += 1      \n",
    "    if i > 2:   # 共生成幾次，要限制\n",
    "        break   # otherwise the generator would loop indefinitely"
   ]
  },
  {
   "cell_type": "code",
   "execution_count": null,
   "metadata": {},
   "outputs": [],
   "source": []
  }
 ],
 "metadata": {
  "kernelspec": {
   "display_name": "Python 3.9.7 ('frank_env')",
   "language": "python",
   "name": "python3"
  },
  "language_info": {
   "codemirror_mode": {
    "name": "ipython",
    "version": 3
   },
   "file_extension": ".py",
   "mimetype": "text/x-python",
   "name": "python",
   "nbconvert_exporter": "python",
   "pygments_lexer": "ipython3",
   "version": "3.9.7"
  },
  "orig_nbformat": 4,
  "vscode": {
   "interpreter": {
    "hash": "3d0b3230cba0d6cbfd99760ee6674b1181db07b2579171d1aa41779f5a406caf"
   }
  }
 },
 "nbformat": 4,
 "nbformat_minor": 2
}
