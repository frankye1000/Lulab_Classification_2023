{
 "cells": [
  {
   "cell_type": "code",
   "execution_count": 16,
   "metadata": {},
   "outputs": [],
   "source": [
    "from glob import glob\n",
    "img_paths = glob(\"../../dataset/validation/*.png\")\n",
    "# for img_path in img_paths:"
   ]
  },
  {
   "cell_type": "code",
   "execution_count": 17,
   "metadata": {},
   "outputs": [
    {
     "data": {
      "text/plain": [
       "43"
      ]
     },
     "execution_count": 17,
     "metadata": {},
     "output_type": "execute_result"
    }
   ],
   "source": [
    "len(img_paths)"
   ]
  },
  {
   "cell_type": "code",
   "execution_count": 18,
   "metadata": {},
   "outputs": [
    {
     "name": "stdout",
     "output_type": "stream",
     "text": [
      "../../dataset/validation/d_000142_fps30.png\n",
      "../../dataset/validation/d_000144_fps30.png\n",
      "../../dataset/validation/d_000433_fps30.png\n",
      "../../dataset/validation/d_000435_fps30.png\n",
      "../../dataset/validation/d_000437_fps30.png\n",
      "../../dataset/validation/d_000441_fps30.png\n",
      "../../dataset/validation/d_000443_fps30.png\n",
      "../../dataset/validation/d_000445_fps30.png\n",
      "../../dataset/validation/d_000447_fps30.png\n",
      "../../dataset/validation/d_000449_fps30.png\n",
      "../../dataset/validation/d_000451_fps30.png\n",
      "../../dataset/validation/d_000455_fps30.png\n",
      "../../dataset/validation/d_000457_fps30.png\n",
      "../../dataset/validation/d_000478_fps30.png\n",
      "../../dataset/validation/d_000480_fps30.png\n",
      "../../dataset/validation/d_000484_fps30.png\n",
      "../../dataset/validation/d_000486_fps30.png\n",
      "../../dataset/validation/i_000001_fps30.png\n",
      "../../dataset/validation/i_000003_fps30.png\n",
      "../../dataset/validation/i_000005_fps30.png\n",
      "../../dataset/validation/i_000006_fps30.png\n",
      "../../dataset/validation/i_000008_fps30.png\n",
      "../../dataset/validation/i_000011_fps30.png\n",
      "../../dataset/validation/i_000013_fps30.png\n",
      "../../dataset/validation/i_000015_fps30.png\n",
      "../../dataset/validation/i_000017_fps30.png\n",
      "../../dataset/validation/i_000020_fps30.png\n",
      "../../dataset/validation/i_000022_fps30.png\n",
      "../../dataset/validation/i_000026_fps30.png\n",
      "../../dataset/validation/i_000028_fps30.png\n",
      "../../dataset/validation/i_000031_fps30.png\n",
      "../../dataset/validation/i_000033_fps30.png\n",
      "../../dataset/validation/i_000035_fps30.png\n",
      "../../dataset/validation/i_000037_fps30.png\n",
      "../../dataset/validation/i_000039_fps30.png\n",
      "../../dataset/validation/i_000040_fps30.png\n",
      "../../dataset/validation/i_000042_fps30.png\n",
      "../../dataset/validation/i_000044_fps30.png\n",
      "../../dataset/validation/i_000046_fps30.png\n",
      "../../dataset/validation/i_000048_fps30.png\n",
      "../../dataset/validation/i_000051_fps30.png\n",
      "../../dataset/validation/i_000053_fps30.png\n",
      "../../dataset/validation/i_000055_fps30.png\n"
     ]
    }
   ],
   "source": [
    "import cv2 as cv\n",
    "\n",
    "for img_path in img_paths:\n",
    "    img_name = img_path.split('\\\\')[1].split('.')[0]\n",
    "    file_path = img_path.split('\\\\')[0]\n",
    "    \n",
    "    # read image array\n",
    "    img_array = cv.imread(img_path)\n",
    "    \n",
    "    new_img_path = file_path + \"/\" + img_name + \"_fps30.png\"\n",
    "    cv.imwrite(new_img_path, img_array)\n",
    "    print(new_img_path)"
   ]
  },
  {
   "cell_type": "code",
   "execution_count": null,
   "metadata": {},
   "outputs": [],
   "source": []
  }
 ],
 "metadata": {
  "kernelspec": {
   "display_name": "Python 3.9.7 ('base')",
   "language": "python",
   "name": "python3"
  },
  "language_info": {
   "codemirror_mode": {
    "name": "ipython",
    "version": 3
   },
   "file_extension": ".py",
   "mimetype": "text/x-python",
   "name": "python",
   "nbconvert_exporter": "python",
   "pygments_lexer": "ipython3",
   "version": "3.9.7"
  },
  "orig_nbformat": 4,
  "vscode": {
   "interpreter": {
    "hash": "a077222d77dfe082b8f1dd562ad70e458ac2ab76993a0b248ab0476e32e9e8dd"
   }
  }
 },
 "nbformat": 4,
 "nbformat_minor": 2
}
